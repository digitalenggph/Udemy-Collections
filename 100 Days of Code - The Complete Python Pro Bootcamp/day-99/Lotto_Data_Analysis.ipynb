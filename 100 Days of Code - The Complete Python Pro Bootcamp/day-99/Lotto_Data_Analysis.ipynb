{
 "cells": [
  {
   "cell_type": "code",
   "execution_count": 74,
   "id": "0e7612f0-a04f-4aba-b93d-2ba269638bbb",
   "metadata": {},
   "outputs": [],
   "source": [
    "from datetime import datetime as dt\n",
    "import pandas as pd"
   ]
  },
  {
   "cell_type": "code",
   "execution_count": 75,
   "id": "ba463929-8864-4921-89a2-6f8e2c2630b2",
   "metadata": {},
   "outputs": [
    {
     "data": {
      "text/html": [
       "<div>\n",
       "<style scoped>\n",
       "    .dataframe tbody tr th:only-of-type {\n",
       "        vertical-align: middle;\n",
       "    }\n",
       "\n",
       "    .dataframe tbody tr th {\n",
       "        vertical-align: top;\n",
       "    }\n",
       "\n",
       "    .dataframe thead th {\n",
       "        text-align: right;\n",
       "    }\n",
       "</style>\n",
       "<table border=\"1\" class=\"dataframe\">\n",
       "  <thead>\n",
       "    <tr style=\"text-align: right;\">\n",
       "      <th></th>\n",
       "      <th>Unnamed: 0</th>\n",
       "      <th>LOTTO GAME</th>\n",
       "      <th>COMBINATIONS</th>\n",
       "      <th>DRAW DATE</th>\n",
       "      <th>JACKPOT (PHP)</th>\n",
       "      <th>WINNERS</th>\n",
       "    </tr>\n",
       "  </thead>\n",
       "  <tbody>\n",
       "    <tr>\n",
       "      <th>0</th>\n",
       "      <td>0</td>\n",
       "      <td>Grand Lotto 6/55</td>\n",
       "      <td>40-17-12-29-11-48</td>\n",
       "      <td>8/11/2025</td>\n",
       "      <td>66,935,255.00</td>\n",
       "      <td>0</td>\n",
       "    </tr>\n",
       "    <tr>\n",
       "      <th>1</th>\n",
       "      <td>1</td>\n",
       "      <td>Megalotto 6/45</td>\n",
       "      <td>40-10-16-28-07-09</td>\n",
       "      <td>8/11/2025</td>\n",
       "      <td>38,521,162.80</td>\n",
       "      <td>2</td>\n",
       "    </tr>\n",
       "    <tr>\n",
       "      <th>2</th>\n",
       "      <td>2</td>\n",
       "      <td>4D Lotto</td>\n",
       "      <td>7-0-7-5</td>\n",
       "      <td>8/11/2025</td>\n",
       "      <td>42,039.00</td>\n",
       "      <td>20</td>\n",
       "    </tr>\n",
       "    <tr>\n",
       "      <th>3</th>\n",
       "      <td>3</td>\n",
       "      <td>3D Lotto 2PM</td>\n",
       "      <td>8-1-2</td>\n",
       "      <td>8/11/2025</td>\n",
       "      <td>4,500.00</td>\n",
       "      <td>594</td>\n",
       "    </tr>\n",
       "    <tr>\n",
       "      <th>4</th>\n",
       "      <td>4</td>\n",
       "      <td>3D Lotto 5PM</td>\n",
       "      <td>4-2-2</td>\n",
       "      <td>8/11/2025</td>\n",
       "      <td>4,500.00</td>\n",
       "      <td>329</td>\n",
       "    </tr>\n",
       "  </tbody>\n",
       "</table>\n",
       "</div>"
      ],
      "text/plain": [
       "   Unnamed: 0        LOTTO GAME       COMBINATIONS  DRAW DATE  JACKPOT (PHP)  \\\n",
       "0           0  Grand Lotto 6/55  40-17-12-29-11-48  8/11/2025  66,935,255.00   \n",
       "1           1    Megalotto 6/45  40-10-16-28-07-09  8/11/2025  38,521,162.80   \n",
       "2           2          4D Lotto            7-0-7-5  8/11/2025      42,039.00   \n",
       "3           3      3D Lotto 2PM              8-1-2  8/11/2025       4,500.00   \n",
       "4           4      3D Lotto 5PM              4-2-2  8/11/2025       4,500.00   \n",
       "\n",
       "   WINNERS  \n",
       "0        0  \n",
       "1        2  \n",
       "2       20  \n",
       "3      594  \n",
       "4      329  "
      ]
     },
     "execution_count": 75,
     "metadata": {},
     "output_type": "execute_result"
    }
   ],
   "source": [
    "# preview lotto dataframe\n",
    "lotto_df = pd.read_csv(\"lotto_data.csv\")\n",
    "lotto_df.head()"
   ]
  },
  {
   "cell_type": "code",
   "execution_count": 76,
   "id": "c95ad5bb-f1c3-4f15-96a2-a180c0468797",
   "metadata": {},
   "outputs": [
    {
     "name": "stdout",
     "output_type": "stream",
     "text": [
      "<class 'pandas.core.frame.DataFrame'>\n",
      "RangeIndex: 32871 entries, 0 to 32870\n",
      "Data columns (total 6 columns):\n",
      " #   Column         Non-Null Count  Dtype \n",
      "---  ------         --------------  ----- \n",
      " 0   Unnamed: 0     32871 non-null  int64 \n",
      " 1   LOTTO GAME     32871 non-null  object\n",
      " 2   COMBINATIONS   32871 non-null  object\n",
      " 3   DRAW DATE      32871 non-null  object\n",
      " 4   JACKPOT (PHP)  32871 non-null  object\n",
      " 5   WINNERS        32871 non-null  int64 \n",
      "dtypes: int64(2), object(4)\n",
      "memory usage: 1.5+ MB\n"
     ]
    }
   ],
   "source": [
    "lotto_df.info()"
   ]
  },
  {
   "cell_type": "code",
   "execution_count": 77,
   "id": "2dc9a463-8945-4e93-a003-2d22f2db9a9a",
   "metadata": {},
   "outputs": [
    {
     "data": {
      "text/html": [
       "<div>\n",
       "<style scoped>\n",
       "    .dataframe tbody tr th:only-of-type {\n",
       "        vertical-align: middle;\n",
       "    }\n",
       "\n",
       "    .dataframe tbody tr th {\n",
       "        vertical-align: top;\n",
       "    }\n",
       "\n",
       "    .dataframe thead th {\n",
       "        text-align: right;\n",
       "    }\n",
       "</style>\n",
       "<table border=\"1\" class=\"dataframe\">\n",
       "  <thead>\n",
       "    <tr style=\"text-align: right;\">\n",
       "      <th></th>\n",
       "      <th>LOTTO GAME</th>\n",
       "      <th>COMBINATIONS</th>\n",
       "      <th>DRAW DATE</th>\n",
       "      <th>JACKPOT (PHP)</th>\n",
       "      <th>WINNERS</th>\n",
       "    </tr>\n",
       "  </thead>\n",
       "  <tbody>\n",
       "    <tr>\n",
       "      <th>0</th>\n",
       "      <td>Grand Lotto 6/55</td>\n",
       "      <td>40-17-12-29-11-48</td>\n",
       "      <td>8/11/2025</td>\n",
       "      <td>66,935,255.00</td>\n",
       "      <td>0</td>\n",
       "    </tr>\n",
       "    <tr>\n",
       "      <th>1</th>\n",
       "      <td>Megalotto 6/45</td>\n",
       "      <td>40-10-16-28-07-09</td>\n",
       "      <td>8/11/2025</td>\n",
       "      <td>38,521,162.80</td>\n",
       "      <td>2</td>\n",
       "    </tr>\n",
       "    <tr>\n",
       "      <th>2</th>\n",
       "      <td>4D Lotto</td>\n",
       "      <td>7-0-7-5</td>\n",
       "      <td>8/11/2025</td>\n",
       "      <td>42,039.00</td>\n",
       "      <td>20</td>\n",
       "    </tr>\n",
       "    <tr>\n",
       "      <th>3</th>\n",
       "      <td>3D Lotto 2PM</td>\n",
       "      <td>8-1-2</td>\n",
       "      <td>8/11/2025</td>\n",
       "      <td>4,500.00</td>\n",
       "      <td>594</td>\n",
       "    </tr>\n",
       "    <tr>\n",
       "      <th>4</th>\n",
       "      <td>3D Lotto 5PM</td>\n",
       "      <td>4-2-2</td>\n",
       "      <td>8/11/2025</td>\n",
       "      <td>4,500.00</td>\n",
       "      <td>329</td>\n",
       "    </tr>\n",
       "  </tbody>\n",
       "</table>\n",
       "</div>"
      ],
      "text/plain": [
       "         LOTTO GAME       COMBINATIONS  DRAW DATE  JACKPOT (PHP)  WINNERS\n",
       "0  Grand Lotto 6/55  40-17-12-29-11-48  8/11/2025  66,935,255.00        0\n",
       "1    Megalotto 6/45  40-10-16-28-07-09  8/11/2025  38,521,162.80        2\n",
       "2          4D Lotto            7-0-7-5  8/11/2025      42,039.00       20\n",
       "3      3D Lotto 2PM              8-1-2  8/11/2025       4,500.00      594\n",
       "4      3D Lotto 5PM              4-2-2  8/11/2025       4,500.00      329"
      ]
     },
     "execution_count": 77,
     "metadata": {},
     "output_type": "execute_result"
    }
   ],
   "source": [
    "# drop Unnamed: 0 column\n",
    "lotto_df = lotto_df.drop('Unnamed: 0', axis=1)\n",
    "lotto_df.head()"
   ]
  },
  {
   "cell_type": "code",
   "execution_count": 78,
   "id": "79ee5060-269a-48a1-9aeb-bb9c5192b5ef",
   "metadata": {},
   "outputs": [
    {
     "name": "stdout",
     "output_type": "stream",
     "text": [
      "old games:  ['Grand Lotto 6/55' 'Megalotto 6/45' '4D Lotto' '3D Lotto 2PM'\n",
      " '3D Lotto 5PM' '3D Lotto 9PM' '2D Lotto 2PM' '2D Lotto 5PM'\n",
      " '2D Lotto 9PM' 'Ultra Lotto 6/58' 'Superlotto 6/49' 'Lotto 6/42'\n",
      " '6D Lotto' 'Suertres Lotto 11:30AM' 'Suertres Lotto 12:30PM'\n",
      " 'Suertres Lotto 2PM' 'EZ2 Lotto 2PM' 'EZ2 Lotto 11:30AM'\n",
      " 'EZ2 Lotto 12:30PM'] \n",
      "\n",
      "updated games:  ['Grand Lotto 6/55' 'Megalotto 6/45' '4D Lotto' '3D Lotto' '2D Lotto'\n",
      " 'Ultra Lotto 6/58' 'Superlotto 6/49' 'Lotto 6/42' '6D Lotto'\n",
      " 'Suertres Lotto' 'EZ2 Lotto']\n"
     ]
    }
   ],
   "source": [
    "# 3D Lotto, 2D Lotto, and Suertres Lotto were listed including their timeslot\n",
    "# For simplicity, they can just be merged as one, like the rest of Lotto Games\n",
    "print(\"old games: \", lotto_df[\"LOTTO GAME\"].unique(),'\\n')\n",
    "\n",
    "replace_dict = {\"2D Lotto\": ['2D Lotto 2PM', '2D Lotto 5PM', '2D Lotto 9PM'],\n",
    "                \"3D Lotto\": ['3D Lotto 2PM', '3D Lotto 5PM', '3D Lotto 9PM'],\n",
    "                \"Suertres Lotto\": ['Suertres Lotto 11:30AM', 'Suertres Lotto 12:30PM', 'Suertres Lotto 2PM'],\n",
    "                \"EZ2 Lotto\": ['EZ2 Lotto 11:30AM', 'EZ2 Lotto 12:30PM', 'EZ2 Lotto 2PM']            \n",
    "               }\n",
    "\n",
    "for k, v in replace_dict.items():\n",
    "    lotto_df[\"LOTTO GAME\"] = lotto_df[\"LOTTO GAME\"].replace(v, k)\n",
    "\n",
    "print(\"updated games: \", lotto_df[\"LOTTO GAME\"].unique())"
   ]
  },
  {
   "cell_type": "code",
   "execution_count": 79,
   "id": "ab9402ed-649d-4349-a03c-3f54ecb91ff3",
   "metadata": {},
   "outputs": [
    {
     "name": "stdout",
     "output_type": "stream",
     "text": [
      "Column LOTTO GAME type:  object\n",
      "Column COMBINATIONS type:  object\n",
      "Column DRAW DATE type:  datetime64[ns]\n",
      "Column JACKPOT (PHP) type:  float64\n",
      "Column WINNERS type:  int64\n"
     ]
    },
    {
     "data": {
      "text/html": [
       "<div>\n",
       "<style scoped>\n",
       "    .dataframe tbody tr th:only-of-type {\n",
       "        vertical-align: middle;\n",
       "    }\n",
       "\n",
       "    .dataframe tbody tr th {\n",
       "        vertical-align: top;\n",
       "    }\n",
       "\n",
       "    .dataframe thead th {\n",
       "        text-align: right;\n",
       "    }\n",
       "</style>\n",
       "<table border=\"1\" class=\"dataframe\">\n",
       "  <thead>\n",
       "    <tr style=\"text-align: right;\">\n",
       "      <th></th>\n",
       "      <th>LOTTO GAME</th>\n",
       "      <th>COMBINATIONS</th>\n",
       "      <th>DRAW DATE</th>\n",
       "      <th>JACKPOT (PHP)</th>\n",
       "      <th>WINNERS</th>\n",
       "    </tr>\n",
       "  </thead>\n",
       "  <tbody>\n",
       "    <tr>\n",
       "      <th>0</th>\n",
       "      <td>Grand Lotto 6/55</td>\n",
       "      <td>40-17-12-29-11-48</td>\n",
       "      <td>2025-08-11</td>\n",
       "      <td>66935255.0</td>\n",
       "      <td>0</td>\n",
       "    </tr>\n",
       "    <tr>\n",
       "      <th>1</th>\n",
       "      <td>Megalotto 6/45</td>\n",
       "      <td>40-10-16-28-07-09</td>\n",
       "      <td>2025-08-11</td>\n",
       "      <td>38521162.8</td>\n",
       "      <td>2</td>\n",
       "    </tr>\n",
       "    <tr>\n",
       "      <th>2</th>\n",
       "      <td>4D Lotto</td>\n",
       "      <td>7-0-7-5</td>\n",
       "      <td>2025-08-11</td>\n",
       "      <td>42039.0</td>\n",
       "      <td>20</td>\n",
       "    </tr>\n",
       "    <tr>\n",
       "      <th>3</th>\n",
       "      <td>3D Lotto</td>\n",
       "      <td>8-1-2</td>\n",
       "      <td>2025-08-11</td>\n",
       "      <td>4500.0</td>\n",
       "      <td>594</td>\n",
       "    </tr>\n",
       "    <tr>\n",
       "      <th>4</th>\n",
       "      <td>3D Lotto</td>\n",
       "      <td>4-2-2</td>\n",
       "      <td>2025-08-11</td>\n",
       "      <td>4500.0</td>\n",
       "      <td>329</td>\n",
       "    </tr>\n",
       "  </tbody>\n",
       "</table>\n",
       "</div>"
      ],
      "text/plain": [
       "         LOTTO GAME       COMBINATIONS  DRAW DATE  JACKPOT (PHP)  WINNERS\n",
       "0  Grand Lotto 6/55  40-17-12-29-11-48 2025-08-11     66935255.0        0\n",
       "1    Megalotto 6/45  40-10-16-28-07-09 2025-08-11     38521162.8        2\n",
       "2          4D Lotto            7-0-7-5 2025-08-11        42039.0       20\n",
       "3          3D Lotto              8-1-2 2025-08-11         4500.0      594\n",
       "4          3D Lotto              4-2-2 2025-08-11         4500.0      329"
      ]
     },
     "execution_count": 79,
     "metadata": {},
     "output_type": "execute_result"
    }
   ],
   "source": [
    "# convert 'DRAW DATE' column to datetime\n",
    "lotto_df['DRAW DATE'] = pd.to_datetime(lotto_df['DRAW DATE'])\n",
    "\n",
    "# convert 'JACKPOT (PHP)' column to float\n",
    "lotto_df['JACKPOT (PHP)'] = lotto_df['JACKPOT (PHP)'].str.replace(\",\", \"\")\n",
    "lotto_df['JACKPOT (PHP)'] = pd.to_numeric(lotto_df['JACKPOT (PHP)'])\n",
    "\n",
    "for column in lotto_df.columns:\n",
    "    print(f\"Column {column} type: \", lotto_df[column].dtype)\n",
    "          \n",
    "# print(\"Column 'DRAW DATE' type: \", lotto_df['DRAW DATE'].dtype)\n",
    "# print(\"Column 'JACKPOT (PHP)' type: \", lotto_df['JACKPOT (PHP)'].dtype)\n",
    "\n",
    "lotto_df.head()"
   ]
  },
  {
   "cell_type": "code",
   "execution_count": 81,
   "id": "93e0e765-a5f3-4e32-bc95-a5e11adb9f09",
   "metadata": {},
   "outputs": [
    {
     "data": {
      "text/plain": [
       "LOTTO GAME\n",
       "2D Lotto            2963624\n",
       "3D Lotto            4901887\n",
       "4D Lotto              45178\n",
       "6D Lotto                283\n",
       "EZ2 Lotto               826\n",
       "Grand Lotto 6/55        509\n",
       "Lotto 6/42              230\n",
       "Megalotto 6/45          184\n",
       "Suertres Lotto         3533\n",
       "Superlotto 6/49         113\n",
       "Ultra Lotto 6/58         48\n",
       "Name: WINNERS, dtype: int64"
      ]
     },
     "execution_count": 81,
     "metadata": {},
     "output_type": "execute_result"
    }
   ],
   "source": [
    "number_of_winners = lotto_df.groupby(\"LOTTO GAME\")[\"WINNERS\"].agg(\"sum\")\n",
    "number_of_winners"
   ]
  },
  {
   "cell_type": "markdown",
   "id": "0d89a935-3404-4b61-9f16-2959fcf9f59e",
   "metadata": {},
   "source": [
    "Yearly line chart average of total prices\n",
    "Most common number in each \n"
   ]
  },
  {
   "cell_type": "code",
   "execution_count": null,
   "id": "0bcf496e-c4f3-4447-975a-546c30d96a5c",
   "metadata": {},
   "outputs": [],
   "source": []
  },
  {
   "cell_type": "code",
   "execution_count": null,
   "id": "fbef7131-f4b2-41fb-9257-e90e3632b091",
   "metadata": {},
   "outputs": [],
   "source": []
  },
  {
   "cell_type": "code",
   "execution_count": null,
   "id": "0b4b7129-b1c0-4169-b119-357a786af274",
   "metadata": {},
   "outputs": [],
   "source": []
  }
 ],
 "metadata": {
  "kernelspec": {
   "display_name": "Python [conda env:base] *",
   "language": "python",
   "name": "conda-base-py"
  },
  "language_info": {
   "codemirror_mode": {
    "name": "ipython",
    "version": 3
   },
   "file_extension": ".py",
   "mimetype": "text/x-python",
   "name": "python",
   "nbconvert_exporter": "python",
   "pygments_lexer": "ipython3",
   "version": "3.13.5"
  }
 },
 "nbformat": 4,
 "nbformat_minor": 5
}
